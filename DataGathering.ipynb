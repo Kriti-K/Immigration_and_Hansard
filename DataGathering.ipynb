{
 "cells": [
  {
   "cell_type": "markdown",
   "metadata": {},
   "source": [
    "XML just wouldn't work, trying HTML using BeautifulSoup now"
   ]
  },
  {
   "cell_type": "code",
   "execution_count": 2,
   "metadata": {},
   "outputs": [],
   "source": [
    "import pandas as pd \n",
    "from bs4 import BeautifulSoup\n",
    "import requests\n",
    "from urllib.parse import urlencode\n",
    "import csv\n",
    "import numpy as np "
   ]
  },
  {
   "cell_type": "code",
   "execution_count": 6,
   "metadata": {},
   "outputs": [],
   "source": [
    "# import html5lib\n",
    "# pageNumber =1\n",
    "# soup = ''\n",
    "\n",
    "\n",
    "# url = 'https://www.ourcommons.ca/PublicationSearch/en/?View=D&Item=&ParlSes=from2018-01-01to2020-03-18&oob=&Topic=39367,40445&Proc=&Per=&Prov=&Cauc=&Text=&RPP=15&order=&targetLang=&SBS=0&MRR=2000000&Page=1&PubType=37'\n",
    "# page = requests.get(url)\n",
    "# soup = BeautifulSoup(page.text, 'html.parser')\n",
    "# soup.text\n",
    "\n"
   ]
  },
  {
   "cell_type": "code",
   "execution_count": 80,
   "metadata": {},
   "outputs": [
    {
     "name": "stderr",
     "output_type": "stream",
     "text": [
      "C:\\Users\\Kriti Kapoor\\AppData\\Local\\Temp\\ipykernel_24788\\4016101.py:1: ParserWarning: Falling back to the 'python' engine because the 'c' engine does not support regex separators (separators > 1 char and different from '\\s+' are interpreted as regex); you can avoid this warning by specifying engine='python'.\n",
      "  data = pd.read_csv('Results(1).csv', sep=',\"', encoding='latin1', header=None)\n"
     ]
    }
   ],
   "source": [
    "data = pd.read_csv('Results(1).csv', sep=',\"', encoding='latin1', header=None, )"
   ]
  },
  {
   "cell_type": "code",
   "execution_count": 81,
   "metadata": {},
   "outputs": [
    {
     "data": {
      "text/html": [
       "<div>\n",
       "<style scoped>\n",
       "    .dataframe tbody tr th:only-of-type {\n",
       "        vertical-align: middle;\n",
       "    }\n",
       "\n",
       "    .dataframe tbody tr th {\n",
       "        vertical-align: top;\n",
       "    }\n",
       "\n",
       "    .dataframe thead th {\n",
       "        text-align: right;\n",
       "    }\n",
       "</style>\n",
       "<table border=\"1\" class=\"dataframe\">\n",
       "  <thead>\n",
       "    <tr style=\"text-align: right;\">\n",
       "      <th></th>\n",
       "      <th>0</th>\n",
       "    </tr>\n",
       "  </thead>\n",
       "  <tbody>\n",
       "    <tr>\n",
       "      <th>0</th>\n",
       "      <td>P\u0000u\u0000b\u0000l\u0000i\u0000c\u0000a\u0000t\u0000i\u0000o\u0000n\u0000,\u0000F\u0000i\u0000r\u0000s\u0000t\u0000 \u0000N\u0000a\u0000m\u0000e\u0000,\u0000...</td>\n",
       "    </tr>\n",
       "    <tr>\n",
       "      <th>1</th>\n",
       "      <td>\u0000</td>\n",
       "    </tr>\n",
       "    <tr>\n",
       "      <th>2</th>\n",
       "      <td>\u0000H\u0000a\u0000n\u0000s\u0000a\u0000r\u0000d\u0000 \u0000-\u0000 \u00003\u00002\u00005\u0000,\u0000G\u0000o\u0000r\u0000d\u0000,\u0000J\u0000o\u0000h\u0000n...</td>\n",
       "    </tr>\n",
       "    <tr>\n",
       "      <th>3</th>\n",
       "      <td>\u0000</td>\n",
       "    </tr>\n",
       "    <tr>\n",
       "      <th>4</th>\n",
       "      <td>\u0000H\u0000a\u0000n\u0000s\u0000a\u0000r\u0000d\u0000 \u0000-\u0000 \u00003\u00002\u00005\u0000,\u0000P\u0000h\u0000i\u0000l\u0000,\u0000M\u0000c\u0000C\u0000o...</td>\n",
       "    </tr>\n",
       "    <tr>\n",
       "      <th>...</th>\n",
       "      <td>...</td>\n",
       "    </tr>\n",
       "    <tr>\n",
       "      <th>98</th>\n",
       "      <td>\u0000H\u0000a\u0000n\u0000s\u0000a\u0000r\u0000d\u0000 \u0000-\u0000 \u00003\u00002\u00005\u0000,\u0000D\u0000a\u0000n\u0000,\u0000A\u0000l\u0000b\u0000a\u0000s...</td>\n",
       "    </tr>\n",
       "    <tr>\n",
       "      <th>99</th>\n",
       "      <td>\u0000</td>\n",
       "    </tr>\n",
       "    <tr>\n",
       "      <th>100</th>\n",
       "      <td>\u0000H\u0000a\u0000n\u0000s\u0000a\u0000r\u0000d\u0000 \u0000-\u0000 \u00002\u00006\u00002\u0000,\u0000G\u0000o\u0000r\u0000d\u0000,\u0000J\u0000o\u0000h\u0000n...</td>\n",
       "    </tr>\n",
       "    <tr>\n",
       "      <th>101</th>\n",
       "      <td>\u0000</td>\n",
       "    </tr>\n",
       "    <tr>\n",
       "      <th>102</th>\n",
       "      <td>\u0000</td>\n",
       "    </tr>\n",
       "  </tbody>\n",
       "</table>\n",
       "<p>103 rows × 1 columns</p>\n",
       "</div>"
      ],
      "text/plain": [
       "                                                     0\n",
       "0    P\u0000u\u0000b\u0000l\u0000i\u0000c\u0000a\u0000t\u0000i\u0000o\u0000n\u0000,\u0000F\u0000i\u0000r\u0000s\u0000t\u0000 \u0000N\u0000a\u0000m\u0000e\u0000,\u0000...\n",
       "1                                                    \u0000\n",
       "2    \u0000H\u0000a\u0000n\u0000s\u0000a\u0000r\u0000d\u0000 \u0000-\u0000 \u00003\u00002\u00005\u0000,\u0000G\u0000o\u0000r\u0000d\u0000,\u0000J\u0000o\u0000h\u0000n...\n",
       "3                                                    \u0000\n",
       "4    \u0000H\u0000a\u0000n\u0000s\u0000a\u0000r\u0000d\u0000 \u0000-\u0000 \u00003\u00002\u00005\u0000,\u0000P\u0000h\u0000i\u0000l\u0000,\u0000M\u0000c\u0000C\u0000o...\n",
       "..                                                 ...\n",
       "98   \u0000H\u0000a\u0000n\u0000s\u0000a\u0000r\u0000d\u0000 \u0000-\u0000 \u00003\u00002\u00005\u0000,\u0000D\u0000a\u0000n\u0000,\u0000A\u0000l\u0000b\u0000a\u0000s...\n",
       "99                                                   \u0000\n",
       "100  \u0000H\u0000a\u0000n\u0000s\u0000a\u0000r\u0000d\u0000 \u0000-\u0000 \u00002\u00006\u00002\u0000,\u0000G\u0000o\u0000r\u0000d\u0000,\u0000J\u0000o\u0000h\u0000n...\n",
       "101                                                  \u0000\n",
       "102                                                  \u0000\n",
       "\n",
       "[103 rows x 1 columns]"
      ]
     },
     "execution_count": 81,
     "metadata": {},
     "output_type": "execute_result"
    }
   ],
   "source": [
    "data"
   ]
  }
 ],
 "metadata": {
  "kernelspec": {
   "display_name": "Python 3.8.6 64-bit",
   "language": "python",
   "name": "python3"
  },
  "language_info": {
   "codemirror_mode": {
    "name": "ipython",
    "version": 3
   },
   "file_extension": ".py",
   "mimetype": "text/x-python",
   "name": "python",
   "nbconvert_exporter": "python",
   "pygments_lexer": "ipython3",
   "version": "3.8.6"
  },
  "orig_nbformat": 4,
  "vscode": {
   "interpreter": {
    "hash": "c905b2281a0e18efbc7b52a3b445278246b1a358bdce3a3a9d510e8b53cc4ff4"
   }
  }
 },
 "nbformat": 4,
 "nbformat_minor": 2
}
